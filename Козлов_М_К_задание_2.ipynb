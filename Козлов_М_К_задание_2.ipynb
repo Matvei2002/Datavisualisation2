{
  "cells": [
    {
      "cell_type": "markdown",
      "metadata": {
        "id": "jEAkHIqw0fpV"
      },
      "source": [
        "Исходник датасета: https://www.kaggle.com/aerodinamicc/ecommerce-website-funnel-analysis\n"
      ]
    },
    {
      "cell_type": "code",
      "execution_count": 1,
      "metadata": {
        "id": "-WJJ3GIhSI5L"
      },
      "outputs": [],
      "source": [
        "# Импортируем нужные бибилиотеки\n",
        "import pandas as pd"
      ]
    },
    {
      "cell_type": "code",
      "execution_count": 2,
      "metadata": {
        "colab": {
          "base_uri": "https://localhost:8080/",
          "height": 206
        },
        "id": "flVuJZAbRyqn",
        "outputId": "e69e273e-0b43-4e4e-8ae1-13bf85f7cedd"
      },
      "outputs": [
        {
          "data": {
            "text/html": [
              "<div>\n",
              "<style scoped>\n",
              "    .dataframe tbody tr th:only-of-type {\n",
              "        vertical-align: middle;\n",
              "    }\n",
              "\n",
              "    .dataframe tbody tr th {\n",
              "        vertical-align: top;\n",
              "    }\n",
              "\n",
              "    .dataframe thead th {\n",
              "        text-align: right;\n",
              "    }\n",
              "</style>\n",
              "<table border=\"1\" class=\"dataframe\">\n",
              "  <thead>\n",
              "    <tr style=\"text-align: right;\">\n",
              "      <th></th>\n",
              "      <th>user_id</th>\n",
              "      <th>date</th>\n",
              "      <th>device</th>\n",
              "      <th>sex</th>\n",
              "    </tr>\n",
              "  </thead>\n",
              "  <tbody>\n",
              "    <tr>\n",
              "      <th>0</th>\n",
              "      <td>450007</td>\n",
              "      <td>2015-02-28</td>\n",
              "      <td>Desktop</td>\n",
              "      <td>Female</td>\n",
              "    </tr>\n",
              "    <tr>\n",
              "      <th>1</th>\n",
              "      <td>756838</td>\n",
              "      <td>2015-01-13</td>\n",
              "      <td>Desktop</td>\n",
              "      <td>Male</td>\n",
              "    </tr>\n",
              "    <tr>\n",
              "      <th>2</th>\n",
              "      <td>568983</td>\n",
              "      <td>2015-04-09</td>\n",
              "      <td>Desktop</td>\n",
              "      <td>Male</td>\n",
              "    </tr>\n",
              "    <tr>\n",
              "      <th>3</th>\n",
              "      <td>190794</td>\n",
              "      <td>2015-02-18</td>\n",
              "      <td>Desktop</td>\n",
              "      <td>Female</td>\n",
              "    </tr>\n",
              "    <tr>\n",
              "      <th>4</th>\n",
              "      <td>537909</td>\n",
              "      <td>2015-01-15</td>\n",
              "      <td>Desktop</td>\n",
              "      <td>Male</td>\n",
              "    </tr>\n",
              "  </tbody>\n",
              "</table>\n",
              "</div>"
            ],
            "text/plain": [
              "   user_id        date   device     sex\n",
              "0   450007  2015-02-28  Desktop  Female\n",
              "1   756838  2015-01-13  Desktop    Male\n",
              "2   568983  2015-04-09  Desktop    Male\n",
              "3   190794  2015-02-18  Desktop  Female\n",
              "4   537909  2015-01-15  Desktop    Male"
            ]
          },
          "execution_count": 2,
          "metadata": {},
          "output_type": "execute_result"
        }
      ],
      "source": [
        "# Загружаем в Python с помощью Pandas все датасеты\n",
        "user_table = pd.read_csv('tables/user_table.csv')\n",
        "\n",
        "# Просматриваем первые 5 строк датасета\n",
        "user_table.head()"
      ]
    },
    {
      "cell_type": "code",
      "execution_count": 3,
      "metadata": {
        "colab": {
          "base_uri": "https://localhost:8080/",
          "height": 206
        },
        "id": "Uab5lO5gSu8E",
        "outputId": "763ff502-c9de-4c64-ea97-9244c3e54487"
      },
      "outputs": [
        {
          "data": {
            "text/html": [
              "<div>\n",
              "<style scoped>\n",
              "    .dataframe tbody tr th:only-of-type {\n",
              "        vertical-align: middle;\n",
              "    }\n",
              "\n",
              "    .dataframe tbody tr th {\n",
              "        vertical-align: top;\n",
              "    }\n",
              "\n",
              "    .dataframe thead th {\n",
              "        text-align: right;\n",
              "    }\n",
              "</style>\n",
              "<table border=\"1\" class=\"dataframe\">\n",
              "  <thead>\n",
              "    <tr style=\"text-align: right;\">\n",
              "      <th></th>\n",
              "      <th>user_id</th>\n",
              "      <th>date</th>\n",
              "      <th>device</th>\n",
              "      <th>sex</th>\n",
              "      <th>year</th>\n",
              "      <th>month</th>\n",
              "      <th>weekday</th>\n",
              "    </tr>\n",
              "  </thead>\n",
              "  <tbody>\n",
              "    <tr>\n",
              "      <th>0</th>\n",
              "      <td>450007</td>\n",
              "      <td>2015-02-28</td>\n",
              "      <td>Desktop</td>\n",
              "      <td>Female</td>\n",
              "      <td>2015</td>\n",
              "      <td>February</td>\n",
              "      <td>Saturday</td>\n",
              "    </tr>\n",
              "    <tr>\n",
              "      <th>1</th>\n",
              "      <td>756838</td>\n",
              "      <td>2015-01-13</td>\n",
              "      <td>Desktop</td>\n",
              "      <td>Male</td>\n",
              "      <td>2015</td>\n",
              "      <td>January</td>\n",
              "      <td>Tuesday</td>\n",
              "    </tr>\n",
              "    <tr>\n",
              "      <th>2</th>\n",
              "      <td>568983</td>\n",
              "      <td>2015-04-09</td>\n",
              "      <td>Desktop</td>\n",
              "      <td>Male</td>\n",
              "      <td>2015</td>\n",
              "      <td>April</td>\n",
              "      <td>Thursday</td>\n",
              "    </tr>\n",
              "    <tr>\n",
              "      <th>3</th>\n",
              "      <td>190794</td>\n",
              "      <td>2015-02-18</td>\n",
              "      <td>Desktop</td>\n",
              "      <td>Female</td>\n",
              "      <td>2015</td>\n",
              "      <td>February</td>\n",
              "      <td>Wednesday</td>\n",
              "    </tr>\n",
              "    <tr>\n",
              "      <th>4</th>\n",
              "      <td>537909</td>\n",
              "      <td>2015-01-15</td>\n",
              "      <td>Desktop</td>\n",
              "      <td>Male</td>\n",
              "      <td>2015</td>\n",
              "      <td>January</td>\n",
              "      <td>Thursday</td>\n",
              "    </tr>\n",
              "  </tbody>\n",
              "</table>\n",
              "</div>"
            ],
            "text/plain": [
              "   user_id        date   device     sex  year     month    weekday\n",
              "0   450007  2015-02-28  Desktop  Female  2015  February   Saturday\n",
              "1   756838  2015-01-13  Desktop    Male  2015   January    Tuesday\n",
              "2   568983  2015-04-09  Desktop    Male  2015     April   Thursday\n",
              "3   190794  2015-02-18  Desktop  Female  2015  February  Wednesday\n",
              "4   537909  2015-01-15  Desktop    Male  2015   January   Thursday"
            ]
          },
          "execution_count": 3,
          "metadata": {},
          "output_type": "execute_result"
        }
      ],
      "source": [
        "user_table['year'] = pd.DatetimeIndex(user_table['date']).year\n",
        "user_table['month'] = pd.to_datetime(user_table['date']).dt.month_name()\n",
        "user_table['weekday'] = pd.to_datetime(user_table['date']).dt.day_name()\n",
        "\n",
        "user_table.head()"
      ]
    },
    {
      "cell_type": "code",
      "execution_count": 4,
      "metadata": {
        "colab": {
          "base_uri": "https://localhost:8080/"
        },
        "id": "uX4BO7K9Swfg",
        "outputId": "b5ca5670-8d21-4a88-da33-0b9a54bf7bb7"
      },
      "outputs": [
        {
          "data": {
            "text/plain": [
              "(90400, 7)"
            ]
          },
          "execution_count": 4,
          "metadata": {},
          "output_type": "execute_result"
        }
      ],
      "source": [
        "# Просматриваем кол-во строк и столбцов каждого датасета\n",
        "user_table.shape"
      ]
    },
    {
      "cell_type": "code",
      "execution_count": 5,
      "metadata": {
        "colab": {
          "base_uri": "https://localhost:8080/",
          "height": 206
        },
        "id": "8oZpMRrLSHmP",
        "outputId": "626c5581-9b1a-4545-ed7c-673b2fac22c0"
      },
      "outputs": [
        {
          "data": {
            "text/html": [
              "<div>\n",
              "<style scoped>\n",
              "    .dataframe tbody tr th:only-of-type {\n",
              "        vertical-align: middle;\n",
              "    }\n",
              "\n",
              "    .dataframe tbody tr th {\n",
              "        vertical-align: top;\n",
              "    }\n",
              "\n",
              "    .dataframe thead th {\n",
              "        text-align: right;\n",
              "    }\n",
              "</style>\n",
              "<table border=\"1\" class=\"dataframe\">\n",
              "  <thead>\n",
              "    <tr style=\"text-align: right;\">\n",
              "      <th></th>\n",
              "      <th>user_id</th>\n",
              "      <th>page</th>\n",
              "    </tr>\n",
              "  </thead>\n",
              "  <tbody>\n",
              "    <tr>\n",
              "      <th>0</th>\n",
              "      <td>313593</td>\n",
              "      <td>home_page</td>\n",
              "    </tr>\n",
              "    <tr>\n",
              "      <th>1</th>\n",
              "      <td>468315</td>\n",
              "      <td>home_page</td>\n",
              "    </tr>\n",
              "    <tr>\n",
              "      <th>2</th>\n",
              "      <td>264005</td>\n",
              "      <td>home_page</td>\n",
              "    </tr>\n",
              "    <tr>\n",
              "      <th>3</th>\n",
              "      <td>290784</td>\n",
              "      <td>home_page</td>\n",
              "    </tr>\n",
              "    <tr>\n",
              "      <th>4</th>\n",
              "      <td>639104</td>\n",
              "      <td>home_page</td>\n",
              "    </tr>\n",
              "  </tbody>\n",
              "</table>\n",
              "</div>"
            ],
            "text/plain": [
              "   user_id       page\n",
              "0   313593  home_page\n",
              "1   468315  home_page\n",
              "2   264005  home_page\n",
              "3   290784  home_page\n",
              "4   639104  home_page"
            ]
          },
          "execution_count": 5,
          "metadata": {},
          "output_type": "execute_result"
        }
      ],
      "source": [
        "home_page = pd.read_csv('tables/home_page_table.csv')\n",
        "home_page.head()"
      ]
    },
    {
      "cell_type": "code",
      "execution_count": 6,
      "metadata": {
        "colab": {
          "base_uri": "https://localhost:8080/"
        },
        "id": "Q0csAaeqVyRh",
        "outputId": "ad5f0321-59fc-4330-9e74-4a7026e703a3"
      },
      "outputs": [
        {
          "data": {
            "text/plain": [
              "array(['home_page'], dtype=object)"
            ]
          },
          "execution_count": 6,
          "metadata": {},
          "output_type": "execute_result"
        }
      ],
      "source": [
        "home_page['page'].unique()"
      ]
    },
    {
      "cell_type": "code",
      "execution_count": 7,
      "metadata": {
        "colab": {
          "base_uri": "https://localhost:8080/",
          "height": 423
        },
        "id": "pTaEUgITVmFI",
        "outputId": "97401f96-b88f-42be-b83f-826dd51eb14a"
      },
      "outputs": [
        {
          "data": {
            "text/html": [
              "<div>\n",
              "<style scoped>\n",
              "    .dataframe tbody tr th:only-of-type {\n",
              "        vertical-align: middle;\n",
              "    }\n",
              "\n",
              "    .dataframe tbody tr th {\n",
              "        vertical-align: top;\n",
              "    }\n",
              "\n",
              "    .dataframe thead th {\n",
              "        text-align: right;\n",
              "    }\n",
              "</style>\n",
              "<table border=\"1\" class=\"dataframe\">\n",
              "  <thead>\n",
              "    <tr style=\"text-align: right;\">\n",
              "      <th></th>\n",
              "      <th>user_id</th>\n",
              "      <th>page</th>\n",
              "    </tr>\n",
              "  </thead>\n",
              "  <tbody>\n",
              "    <tr>\n",
              "      <th>0</th>\n",
              "      <td>313593</td>\n",
              "      <td>home_page</td>\n",
              "    </tr>\n",
              "    <tr>\n",
              "      <th>1</th>\n",
              "      <td>468315</td>\n",
              "      <td>home_page</td>\n",
              "    </tr>\n",
              "    <tr>\n",
              "      <th>2</th>\n",
              "      <td>264005</td>\n",
              "      <td>home_page</td>\n",
              "    </tr>\n",
              "    <tr>\n",
              "      <th>3</th>\n",
              "      <td>290784</td>\n",
              "      <td>home_page</td>\n",
              "    </tr>\n",
              "    <tr>\n",
              "      <th>4</th>\n",
              "      <td>639104</td>\n",
              "      <td>home_page</td>\n",
              "    </tr>\n",
              "    <tr>\n",
              "      <th>...</th>\n",
              "      <td>...</td>\n",
              "      <td>...</td>\n",
              "    </tr>\n",
              "    <tr>\n",
              "      <th>90395</th>\n",
              "      <td>456851</td>\n",
              "      <td>home_page</td>\n",
              "    </tr>\n",
              "    <tr>\n",
              "      <th>90396</th>\n",
              "      <td>128619</td>\n",
              "      <td>home_page</td>\n",
              "    </tr>\n",
              "    <tr>\n",
              "      <th>90397</th>\n",
              "      <td>167290</td>\n",
              "      <td>home_page</td>\n",
              "    </tr>\n",
              "    <tr>\n",
              "      <th>90398</th>\n",
              "      <td>437765</td>\n",
              "      <td>home_page</td>\n",
              "    </tr>\n",
              "    <tr>\n",
              "      <th>90399</th>\n",
              "      <td>337840</td>\n",
              "      <td>home_page</td>\n",
              "    </tr>\n",
              "  </tbody>\n",
              "</table>\n",
              "<p>90400 rows × 2 columns</p>\n",
              "</div>"
            ],
            "text/plain": [
              "       user_id       page\n",
              "0       313593  home_page\n",
              "1       468315  home_page\n",
              "2       264005  home_page\n",
              "3       290784  home_page\n",
              "4       639104  home_page\n",
              "...        ...        ...\n",
              "90395   456851  home_page\n",
              "90396   128619  home_page\n",
              "90397   167290  home_page\n",
              "90398   437765  home_page\n",
              "90399   337840  home_page\n",
              "\n",
              "[90400 rows x 2 columns]"
            ]
          },
          "execution_count": 7,
          "metadata": {},
          "output_type": "execute_result"
        }
      ],
      "source": [
        "home_page"
      ]
    },
    {
      "cell_type": "code",
      "execution_count": 8,
      "metadata": {
        "colab": {
          "base_uri": "https://localhost:8080/"
        },
        "id": "K1DJvp1-S1An",
        "outputId": "a40d2f41-11d3-46db-942d-f8b021d20c53"
      },
      "outputs": [
        {
          "data": {
            "text/plain": [
              "(90400, 2)"
            ]
          },
          "execution_count": 8,
          "metadata": {},
          "output_type": "execute_result"
        }
      ],
      "source": [
        "home_page.shape"
      ]
    },
    {
      "cell_type": "code",
      "execution_count": 9,
      "metadata": {
        "colab": {
          "base_uri": "https://localhost:8080/"
        },
        "id": "bs2wbjD9HcMH",
        "outputId": "babcd866-a270-453e-bc76-87c00e17571b"
      },
      "outputs": [
        {
          "data": {
            "text/plain": [
              "0"
            ]
          },
          "execution_count": 9,
          "metadata": {},
          "output_type": "execute_result"
        }
      ],
      "source": [
        "sum(home_page.duplicated())"
      ]
    },
    {
      "cell_type": "code",
      "execution_count": 10,
      "metadata": {
        "colab": {
          "base_uri": "https://localhost:8080/",
          "height": 206
        },
        "id": "sRxBlsxOSYFU",
        "outputId": "e9b1a538-9fb8-4069-96db-8e3856998658"
      },
      "outputs": [
        {
          "data": {
            "text/html": [
              "<div>\n",
              "<style scoped>\n",
              "    .dataframe tbody tr th:only-of-type {\n",
              "        vertical-align: middle;\n",
              "    }\n",
              "\n",
              "    .dataframe tbody tr th {\n",
              "        vertical-align: top;\n",
              "    }\n",
              "\n",
              "    .dataframe thead th {\n",
              "        text-align: right;\n",
              "    }\n",
              "</style>\n",
              "<table border=\"1\" class=\"dataframe\">\n",
              "  <thead>\n",
              "    <tr style=\"text-align: right;\">\n",
              "      <th></th>\n",
              "      <th>user_id</th>\n",
              "      <th>page</th>\n",
              "    </tr>\n",
              "  </thead>\n",
              "  <tbody>\n",
              "    <tr>\n",
              "      <th>0</th>\n",
              "      <td>15866</td>\n",
              "      <td>search_page</td>\n",
              "    </tr>\n",
              "    <tr>\n",
              "      <th>1</th>\n",
              "      <td>347058</td>\n",
              "      <td>search_page</td>\n",
              "    </tr>\n",
              "    <tr>\n",
              "      <th>2</th>\n",
              "      <td>577020</td>\n",
              "      <td>search_page</td>\n",
              "    </tr>\n",
              "    <tr>\n",
              "      <th>3</th>\n",
              "      <td>780347</td>\n",
              "      <td>search_page</td>\n",
              "    </tr>\n",
              "    <tr>\n",
              "      <th>4</th>\n",
              "      <td>383739</td>\n",
              "      <td>search_page</td>\n",
              "    </tr>\n",
              "  </tbody>\n",
              "</table>\n",
              "</div>"
            ],
            "text/plain": [
              "   user_id         page\n",
              "0    15866  search_page\n",
              "1   347058  search_page\n",
              "2   577020  search_page\n",
              "3   780347  search_page\n",
              "4   383739  search_page"
            ]
          },
          "execution_count": 10,
          "metadata": {},
          "output_type": "execute_result"
        }
      ],
      "source": [
        "search_page = pd.read_csv('tables/search_page_table.csv')\n",
        "search_page.head()"
      ]
    },
    {
      "cell_type": "code",
      "execution_count": 11,
      "metadata": {
        "colab": {
          "base_uri": "https://localhost:8080/"
        },
        "id": "ZLaSZJsmSpBs",
        "outputId": "b82468e2-dfd7-40c3-b4e0-c0e84d6a7d99"
      },
      "outputs": [
        {
          "data": {
            "text/plain": [
              "(45200, 2)"
            ]
          },
          "execution_count": 11,
          "metadata": {},
          "output_type": "execute_result"
        }
      ],
      "source": [
        "search_page.shape"
      ]
    },
    {
      "cell_type": "code",
      "execution_count": 12,
      "metadata": {
        "colab": {
          "base_uri": "https://localhost:8080/",
          "height": 206
        },
        "id": "9uskrM35S6OZ",
        "outputId": "86757f18-7062-45a6-8c85-497cc96b4030"
      },
      "outputs": [
        {
          "data": {
            "text/html": [
              "<div>\n",
              "<style scoped>\n",
              "    .dataframe tbody tr th:only-of-type {\n",
              "        vertical-align: middle;\n",
              "    }\n",
              "\n",
              "    .dataframe tbody tr th {\n",
              "        vertical-align: top;\n",
              "    }\n",
              "\n",
              "    .dataframe thead th {\n",
              "        text-align: right;\n",
              "    }\n",
              "</style>\n",
              "<table border=\"1\" class=\"dataframe\">\n",
              "  <thead>\n",
              "    <tr style=\"text-align: right;\">\n",
              "      <th></th>\n",
              "      <th>user_id</th>\n",
              "      <th>page</th>\n",
              "    </tr>\n",
              "  </thead>\n",
              "  <tbody>\n",
              "    <tr>\n",
              "      <th>0</th>\n",
              "      <td>253019</td>\n",
              "      <td>payment_page</td>\n",
              "    </tr>\n",
              "    <tr>\n",
              "      <th>1</th>\n",
              "      <td>310478</td>\n",
              "      <td>payment_page</td>\n",
              "    </tr>\n",
              "    <tr>\n",
              "      <th>2</th>\n",
              "      <td>304081</td>\n",
              "      <td>payment_page</td>\n",
              "    </tr>\n",
              "    <tr>\n",
              "      <th>3</th>\n",
              "      <td>901286</td>\n",
              "      <td>payment_page</td>\n",
              "    </tr>\n",
              "    <tr>\n",
              "      <th>4</th>\n",
              "      <td>195052</td>\n",
              "      <td>payment_page</td>\n",
              "    </tr>\n",
              "  </tbody>\n",
              "</table>\n",
              "</div>"
            ],
            "text/plain": [
              "   user_id          page\n",
              "0   253019  payment_page\n",
              "1   310478  payment_page\n",
              "2   304081  payment_page\n",
              "3   901286  payment_page\n",
              "4   195052  payment_page"
            ]
          },
          "execution_count": 12,
          "metadata": {},
          "output_type": "execute_result"
        }
      ],
      "source": [
        "payment_page = pd.read_csv('tables/payment_page_table.csv')\n",
        "payment_page.head()"
      ]
    },
    {
      "cell_type": "code",
      "execution_count": 13,
      "metadata": {
        "colab": {
          "base_uri": "https://localhost:8080/"
        },
        "id": "km1yhL8xTJGH",
        "outputId": "53bf8235-9080-4d67-b572-71fe9513b16a"
      },
      "outputs": [
        {
          "data": {
            "text/plain": [
              "(6030, 2)"
            ]
          },
          "execution_count": 13,
          "metadata": {},
          "output_type": "execute_result"
        }
      ],
      "source": [
        "payment_page.shape"
      ]
    },
    {
      "cell_type": "code",
      "execution_count": 14,
      "metadata": {
        "colab": {
          "base_uri": "https://localhost:8080/",
          "height": 206
        },
        "id": "CyoPpd5NUOjI",
        "outputId": "bde77263-314d-4f21-c9f4-898cececc81b"
      },
      "outputs": [
        {
          "data": {
            "text/html": [
              "<div>\n",
              "<style scoped>\n",
              "    .dataframe tbody tr th:only-of-type {\n",
              "        vertical-align: middle;\n",
              "    }\n",
              "\n",
              "    .dataframe tbody tr th {\n",
              "        vertical-align: top;\n",
              "    }\n",
              "\n",
              "    .dataframe thead th {\n",
              "        text-align: right;\n",
              "    }\n",
              "</style>\n",
              "<table border=\"1\" class=\"dataframe\">\n",
              "  <thead>\n",
              "    <tr style=\"text-align: right;\">\n",
              "      <th></th>\n",
              "      <th>user_id</th>\n",
              "      <th>page</th>\n",
              "    </tr>\n",
              "  </thead>\n",
              "  <tbody>\n",
              "    <tr>\n",
              "      <th>0</th>\n",
              "      <td>123100</td>\n",
              "      <td>payment_confirmation_page</td>\n",
              "    </tr>\n",
              "    <tr>\n",
              "      <th>1</th>\n",
              "      <td>704999</td>\n",
              "      <td>payment_confirmation_page</td>\n",
              "    </tr>\n",
              "    <tr>\n",
              "      <th>2</th>\n",
              "      <td>407188</td>\n",
              "      <td>payment_confirmation_page</td>\n",
              "    </tr>\n",
              "    <tr>\n",
              "      <th>3</th>\n",
              "      <td>538348</td>\n",
              "      <td>payment_confirmation_page</td>\n",
              "    </tr>\n",
              "    <tr>\n",
              "      <th>4</th>\n",
              "      <td>841681</td>\n",
              "      <td>payment_confirmation_page</td>\n",
              "    </tr>\n",
              "  </tbody>\n",
              "</table>\n",
              "</div>"
            ],
            "text/plain": [
              "   user_id                       page\n",
              "0   123100  payment_confirmation_page\n",
              "1   704999  payment_confirmation_page\n",
              "2   407188  payment_confirmation_page\n",
              "3   538348  payment_confirmation_page\n",
              "4   841681  payment_confirmation_page"
            ]
          },
          "execution_count": 14,
          "metadata": {},
          "output_type": "execute_result"
        }
      ],
      "source": [
        "payment_confirmation = pd.read_csv('tables/payment_confirmation_table.csv')\n",
        "payment_confirmation.head()"
      ]
    },
    {
      "cell_type": "code",
      "execution_count": 15,
      "metadata": {
        "colab": {
          "base_uri": "https://localhost:8080/"
        },
        "id": "xmNf6T82UZ_0",
        "outputId": "976d3945-654a-48d8-9de2-4926e535d4b8"
      },
      "outputs": [
        {
          "data": {
            "text/plain": [
              "(452, 2)"
            ]
          },
          "execution_count": 15,
          "metadata": {},
          "output_type": "execute_result"
        }
      ],
      "source": [
        "payment_confirmation.shape"
      ]
    },
    {
      "cell_type": "code",
      "execution_count": 16,
      "metadata": {
        "id": "4KkMkr12ncd0"
      },
      "outputs": [],
      "source": [
        "# Меняем название одинаковой колонки в каждом датасете\n",
        "home_page = home_page.rename(columns = {'page':'home_page'})\n",
        "search_page = search_page.rename(columns = {'page':'search_page'})\n",
        "payment_page = payment_page.rename(columns = {'page':'payment_page'})\n",
        "payment_confirmation = payment_confirmation.rename(columns = {'page':'payment_confirmation_page'})"
      ]
    },
    {
      "cell_type": "code",
      "execution_count": 17,
      "metadata": {
        "colab": {
          "base_uri": "https://localhost:8080/",
          "height": 206
        },
        "id": "SetI3h-PTMYz",
        "outputId": "11e806aa-9d9a-46e7-aaff-3d940ce5c14d"
      },
      "outputs": [
        {
          "data": {
            "text/html": [
              "<div>\n",
              "<style scoped>\n",
              "    .dataframe tbody tr th:only-of-type {\n",
              "        vertical-align: middle;\n",
              "    }\n",
              "\n",
              "    .dataframe tbody tr th {\n",
              "        vertical-align: top;\n",
              "    }\n",
              "\n",
              "    .dataframe thead th {\n",
              "        text-align: right;\n",
              "    }\n",
              "</style>\n",
              "<table border=\"1\" class=\"dataframe\">\n",
              "  <thead>\n",
              "    <tr style=\"text-align: right;\">\n",
              "      <th></th>\n",
              "      <th>user_id</th>\n",
              "      <th>date</th>\n",
              "      <th>device</th>\n",
              "      <th>sex</th>\n",
              "      <th>year</th>\n",
              "      <th>month</th>\n",
              "      <th>weekday</th>\n",
              "      <th>home_page</th>\n",
              "      <th>search_page</th>\n",
              "      <th>payment_page</th>\n",
              "      <th>payment_confirmation_page</th>\n",
              "    </tr>\n",
              "  </thead>\n",
              "  <tbody>\n",
              "    <tr>\n",
              "      <th>0</th>\n",
              "      <td>450007</td>\n",
              "      <td>2015-02-28</td>\n",
              "      <td>Desktop</td>\n",
              "      <td>Female</td>\n",
              "      <td>2015</td>\n",
              "      <td>February</td>\n",
              "      <td>Saturday</td>\n",
              "      <td>home_page</td>\n",
              "      <td>NaN</td>\n",
              "      <td>NaN</td>\n",
              "      <td>NaN</td>\n",
              "    </tr>\n",
              "    <tr>\n",
              "      <th>1</th>\n",
              "      <td>756838</td>\n",
              "      <td>2015-01-13</td>\n",
              "      <td>Desktop</td>\n",
              "      <td>Male</td>\n",
              "      <td>2015</td>\n",
              "      <td>January</td>\n",
              "      <td>Tuesday</td>\n",
              "      <td>home_page</td>\n",
              "      <td>NaN</td>\n",
              "      <td>NaN</td>\n",
              "      <td>NaN</td>\n",
              "    </tr>\n",
              "    <tr>\n",
              "      <th>2</th>\n",
              "      <td>568983</td>\n",
              "      <td>2015-04-09</td>\n",
              "      <td>Desktop</td>\n",
              "      <td>Male</td>\n",
              "      <td>2015</td>\n",
              "      <td>April</td>\n",
              "      <td>Thursday</td>\n",
              "      <td>home_page</td>\n",
              "      <td>search_page</td>\n",
              "      <td>NaN</td>\n",
              "      <td>NaN</td>\n",
              "    </tr>\n",
              "    <tr>\n",
              "      <th>3</th>\n",
              "      <td>190794</td>\n",
              "      <td>2015-02-18</td>\n",
              "      <td>Desktop</td>\n",
              "      <td>Female</td>\n",
              "      <td>2015</td>\n",
              "      <td>February</td>\n",
              "      <td>Wednesday</td>\n",
              "      <td>home_page</td>\n",
              "      <td>search_page</td>\n",
              "      <td>NaN</td>\n",
              "      <td>NaN</td>\n",
              "    </tr>\n",
              "    <tr>\n",
              "      <th>4</th>\n",
              "      <td>537909</td>\n",
              "      <td>2015-01-15</td>\n",
              "      <td>Desktop</td>\n",
              "      <td>Male</td>\n",
              "      <td>2015</td>\n",
              "      <td>January</td>\n",
              "      <td>Thursday</td>\n",
              "      <td>home_page</td>\n",
              "      <td>NaN</td>\n",
              "      <td>NaN</td>\n",
              "      <td>NaN</td>\n",
              "    </tr>\n",
              "  </tbody>\n",
              "</table>\n",
              "</div>"
            ],
            "text/plain": [
              "   user_id        date   device     sex  year     month    weekday  home_page  \\\n",
              "0   450007  2015-02-28  Desktop  Female  2015  February   Saturday  home_page   \n",
              "1   756838  2015-01-13  Desktop    Male  2015   January    Tuesday  home_page   \n",
              "2   568983  2015-04-09  Desktop    Male  2015     April   Thursday  home_page   \n",
              "3   190794  2015-02-18  Desktop  Female  2015  February  Wednesday  home_page   \n",
              "4   537909  2015-01-15  Desktop    Male  2015   January   Thursday  home_page   \n",
              "\n",
              "   search_page payment_page payment_confirmation_page  \n",
              "0          NaN          NaN                       NaN  \n",
              "1          NaN          NaN                       NaN  \n",
              "2  search_page          NaN                       NaN  \n",
              "3  search_page          NaN                       NaN  \n",
              "4          NaN          NaN                       NaN  "
            ]
          },
          "execution_count": 17,
          "metadata": {},
          "output_type": "execute_result"
        }
      ],
      "source": [
        "# Склеиваем последовательно все датасеты с помощью метода merge по идентификатору user_id\n",
        "df = user_table.merge(home_page, on = 'user_id', how = 'left')\\\n",
        ".merge(search_page, on = 'user_id', how = 'left') \\\n",
        ".merge(payment_page, on = 'user_id', how = 'left')\\\n",
        ".merge(payment_confirmation, on = 'user_id', how = 'left')\n",
        "\n",
        "df.head()"
      ]
    },
    {
      "cell_type": "code",
      "execution_count": 18,
      "metadata": {
        "colab": {
          "base_uri": "https://localhost:8080/"
        },
        "id": "qcwOhuFBUkZu",
        "outputId": "60543737-4e77-40ef-ccb4-a7dff9fa75d2"
      },
      "outputs": [
        {
          "data": {
            "text/plain": [
              "(90400, 11)"
            ]
          },
          "execution_count": 18,
          "metadata": {},
          "output_type": "execute_result"
        }
      ],
      "source": [
        "df.shape"
      ]
    },
    {
      "cell_type": "code",
      "execution_count": 19,
      "metadata": {
        "colab": {
          "base_uri": "https://localhost:8080/",
          "height": 206
        },
        "id": "BoY6-Pg-UqdR",
        "outputId": "cc009640-fb6a-4fe9-cfd1-1f30fd64e04a"
      },
      "outputs": [
        {
          "data": {
            "text/html": [
              "<div>\n",
              "<style scoped>\n",
              "    .dataframe tbody tr th:only-of-type {\n",
              "        vertical-align: middle;\n",
              "    }\n",
              "\n",
              "    .dataframe tbody tr th {\n",
              "        vertical-align: top;\n",
              "    }\n",
              "\n",
              "    .dataframe thead th {\n",
              "        text-align: right;\n",
              "    }\n",
              "</style>\n",
              "<table border=\"1\" class=\"dataframe\">\n",
              "  <thead>\n",
              "    <tr style=\"text-align: right;\">\n",
              "      <th></th>\n",
              "      <th>user_id</th>\n",
              "      <th>date</th>\n",
              "      <th>device</th>\n",
              "      <th>sex</th>\n",
              "      <th>year</th>\n",
              "      <th>month</th>\n",
              "      <th>weekday</th>\n",
              "      <th>home_page</th>\n",
              "      <th>search_page</th>\n",
              "      <th>payment_page</th>\n",
              "      <th>payment_confirmation_page</th>\n",
              "    </tr>\n",
              "  </thead>\n",
              "  <tbody>\n",
              "    <tr>\n",
              "      <th>0</th>\n",
              "      <td>450007</td>\n",
              "      <td>2015-02-28</td>\n",
              "      <td>Desktop</td>\n",
              "      <td>Female</td>\n",
              "      <td>2015</td>\n",
              "      <td>February</td>\n",
              "      <td>Saturday</td>\n",
              "      <td>home_page</td>\n",
              "      <td>NaN</td>\n",
              "      <td>NaN</td>\n",
              "      <td>NaN</td>\n",
              "    </tr>\n",
              "    <tr>\n",
              "      <th>1</th>\n",
              "      <td>756838</td>\n",
              "      <td>2015-01-13</td>\n",
              "      <td>Desktop</td>\n",
              "      <td>Male</td>\n",
              "      <td>2015</td>\n",
              "      <td>January</td>\n",
              "      <td>Tuesday</td>\n",
              "      <td>home_page</td>\n",
              "      <td>NaN</td>\n",
              "      <td>NaN</td>\n",
              "      <td>NaN</td>\n",
              "    </tr>\n",
              "    <tr>\n",
              "      <th>2</th>\n",
              "      <td>568983</td>\n",
              "      <td>2015-04-09</td>\n",
              "      <td>Desktop</td>\n",
              "      <td>Male</td>\n",
              "      <td>2015</td>\n",
              "      <td>April</td>\n",
              "      <td>Thursday</td>\n",
              "      <td>home_page</td>\n",
              "      <td>search_page</td>\n",
              "      <td>NaN</td>\n",
              "      <td>NaN</td>\n",
              "    </tr>\n",
              "    <tr>\n",
              "      <th>3</th>\n",
              "      <td>190794</td>\n",
              "      <td>2015-02-18</td>\n",
              "      <td>Desktop</td>\n",
              "      <td>Female</td>\n",
              "      <td>2015</td>\n",
              "      <td>February</td>\n",
              "      <td>Wednesday</td>\n",
              "      <td>home_page</td>\n",
              "      <td>search_page</td>\n",
              "      <td>NaN</td>\n",
              "      <td>NaN</td>\n",
              "    </tr>\n",
              "    <tr>\n",
              "      <th>4</th>\n",
              "      <td>537909</td>\n",
              "      <td>2015-01-15</td>\n",
              "      <td>Desktop</td>\n",
              "      <td>Male</td>\n",
              "      <td>2015</td>\n",
              "      <td>January</td>\n",
              "      <td>Thursday</td>\n",
              "      <td>home_page</td>\n",
              "      <td>NaN</td>\n",
              "      <td>NaN</td>\n",
              "      <td>NaN</td>\n",
              "    </tr>\n",
              "  </tbody>\n",
              "</table>\n",
              "</div>"
            ],
            "text/plain": [
              "   user_id        date   device     sex  year     month    weekday  home_page  \\\n",
              "0   450007  2015-02-28  Desktop  Female  2015  February   Saturday  home_page   \n",
              "1   756838  2015-01-13  Desktop    Male  2015   January    Tuesday  home_page   \n",
              "2   568983  2015-04-09  Desktop    Male  2015     April   Thursday  home_page   \n",
              "3   190794  2015-02-18  Desktop  Female  2015  February  Wednesday  home_page   \n",
              "4   537909  2015-01-15  Desktop    Male  2015   January   Thursday  home_page   \n",
              "\n",
              "   search_page payment_page payment_confirmation_page  \n",
              "0          NaN          NaN                       NaN  \n",
              "1          NaN          NaN                       NaN  \n",
              "2  search_page          NaN                       NaN  \n",
              "3  search_page          NaN                       NaN  \n",
              "4          NaN          NaN                       NaN  "
            ]
          },
          "execution_count": 19,
          "metadata": {},
          "output_type": "execute_result"
        }
      ],
      "source": [
        "# Второй способ: склеиваем все датасеты сразу\n",
        "from functools import reduce\n",
        "\n",
        "data_frames = [user_table, home_page, search_page, payment_page, payment_confirmation]\n",
        "\n",
        "df_merged = reduce(lambda  left,right: pd.merge(left,right,on='user_id', how='left'), data_frames)\n",
        "\n",
        "df_merged.head()"
      ]
    },
    {
      "cell_type": "code",
      "execution_count": 20,
      "metadata": {
        "colab": {
          "base_uri": "https://localhost:8080/"
        },
        "id": "DFn_gPNUVbN7",
        "outputId": "e0f97f08-4016-404b-f5b4-e1b3cb546320"
      },
      "outputs": [
        {
          "data": {
            "text/plain": [
              "(90400, 11)"
            ]
          },
          "execution_count": 20,
          "metadata": {},
          "output_type": "execute_result"
        }
      ],
      "source": [
        "df_merged.shape"
      ]
    },
    {
      "cell_type": "code",
      "execution_count": 21,
      "metadata": {
        "colab": {
          "base_uri": "https://localhost:8080/"
        },
        "id": "-OXTLFySXrGJ",
        "outputId": "7e321d1f-1051-4cab-cd6a-4ace4fec04f3"
      },
      "outputs": [
        {
          "data": {
            "text/plain": [
              "array(['Female', 'Male'], dtype=object)"
            ]
          },
          "execution_count": 21,
          "metadata": {},
          "output_type": "execute_result"
        }
      ],
      "source": [
        "df['sex'].unique()"
      ]
    },
    {
      "cell_type": "code",
      "execution_count": 22,
      "metadata": {
        "colab": {
          "base_uri": "https://localhost:8080/",
          "height": 206
        },
        "id": "IFUG1ADTFmI_",
        "outputId": "a1a51e49-845a-4027-de9a-113b6a164521"
      },
      "outputs": [
        {
          "data": {
            "text/html": [
              "<div>\n",
              "<style scoped>\n",
              "    .dataframe tbody tr th:only-of-type {\n",
              "        vertical-align: middle;\n",
              "    }\n",
              "\n",
              "    .dataframe tbody tr th {\n",
              "        vertical-align: top;\n",
              "    }\n",
              "\n",
              "    .dataframe thead th {\n",
              "        text-align: right;\n",
              "    }\n",
              "</style>\n",
              "<table border=\"1\" class=\"dataframe\">\n",
              "  <thead>\n",
              "    <tr style=\"text-align: right;\">\n",
              "      <th></th>\n",
              "      <th>user_id</th>\n",
              "      <th>date</th>\n",
              "      <th>device</th>\n",
              "      <th>sex</th>\n",
              "      <th>year</th>\n",
              "      <th>month</th>\n",
              "      <th>weekday</th>\n",
              "      <th>home_page</th>\n",
              "      <th>search_page</th>\n",
              "      <th>payment_page</th>\n",
              "      <th>payment_confirmation_page</th>\n",
              "    </tr>\n",
              "  </thead>\n",
              "  <tbody>\n",
              "    <tr>\n",
              "      <th>0</th>\n",
              "      <td>450007</td>\n",
              "      <td>2015-02-28</td>\n",
              "      <td>Desktop</td>\n",
              "      <td>Female</td>\n",
              "      <td>2015</td>\n",
              "      <td>February</td>\n",
              "      <td>Saturday</td>\n",
              "      <td>1</td>\n",
              "      <td>0</td>\n",
              "      <td>0</td>\n",
              "      <td>0</td>\n",
              "    </tr>\n",
              "    <tr>\n",
              "      <th>1</th>\n",
              "      <td>756838</td>\n",
              "      <td>2015-01-13</td>\n",
              "      <td>Desktop</td>\n",
              "      <td>Male</td>\n",
              "      <td>2015</td>\n",
              "      <td>January</td>\n",
              "      <td>Tuesday</td>\n",
              "      <td>1</td>\n",
              "      <td>0</td>\n",
              "      <td>0</td>\n",
              "      <td>0</td>\n",
              "    </tr>\n",
              "    <tr>\n",
              "      <th>2</th>\n",
              "      <td>568983</td>\n",
              "      <td>2015-04-09</td>\n",
              "      <td>Desktop</td>\n",
              "      <td>Male</td>\n",
              "      <td>2015</td>\n",
              "      <td>April</td>\n",
              "      <td>Thursday</td>\n",
              "      <td>1</td>\n",
              "      <td>1</td>\n",
              "      <td>0</td>\n",
              "      <td>0</td>\n",
              "    </tr>\n",
              "    <tr>\n",
              "      <th>3</th>\n",
              "      <td>190794</td>\n",
              "      <td>2015-02-18</td>\n",
              "      <td>Desktop</td>\n",
              "      <td>Female</td>\n",
              "      <td>2015</td>\n",
              "      <td>February</td>\n",
              "      <td>Wednesday</td>\n",
              "      <td>1</td>\n",
              "      <td>1</td>\n",
              "      <td>0</td>\n",
              "      <td>0</td>\n",
              "    </tr>\n",
              "    <tr>\n",
              "      <th>4</th>\n",
              "      <td>537909</td>\n",
              "      <td>2015-01-15</td>\n",
              "      <td>Desktop</td>\n",
              "      <td>Male</td>\n",
              "      <td>2015</td>\n",
              "      <td>January</td>\n",
              "      <td>Thursday</td>\n",
              "      <td>1</td>\n",
              "      <td>0</td>\n",
              "      <td>0</td>\n",
              "      <td>0</td>\n",
              "    </tr>\n",
              "  </tbody>\n",
              "</table>\n",
              "</div>"
            ],
            "text/plain": [
              "   user_id        date   device     sex  year     month    weekday home_page  \\\n",
              "0   450007  2015-02-28  Desktop  Female  2015  February   Saturday         1   \n",
              "1   756838  2015-01-13  Desktop    Male  2015   January    Tuesday         1   \n",
              "2   568983  2015-04-09  Desktop    Male  2015     April   Thursday         1   \n",
              "3   190794  2015-02-18  Desktop  Female  2015  February  Wednesday         1   \n",
              "4   537909  2015-01-15  Desktop    Male  2015   January   Thursday         1   \n",
              "\n",
              "  search_page payment_page payment_confirmation_page  \n",
              "0           0            0                         0  \n",
              "1           0            0                         0  \n",
              "2           1            0                         0  \n",
              "3           1            0                         0  \n",
              "4           0            0                         0  "
            ]
          },
          "execution_count": 22,
          "metadata": {},
          "output_type": "execute_result"
        }
      ],
      "source": [
        "df['home_page'] = df['home_page'].fillna(0)\n",
        "condition = df['home_page'] == 'home_page'\n",
        "df.loc[condition, 'home_page'] = 1\n",
        "df.head()\n",
        "\n",
        "df['search_page'] = df['search_page'].fillna(0)\n",
        "condition = df['search_page'] == 'search_page'\n",
        "df.loc[condition, 'search_page'] = 1\n",
        "df.head()\n",
        "\n",
        "df['payment_page'] = df['payment_page'].fillna(0)\n",
        "condition = df['payment_page'] == 'payment_page'\n",
        "df.loc[condition, 'payment_page'] = 1\n",
        "df.head()\n",
        "\n",
        "df['payment_confirmation_page'] = df['payment_confirmation_page'].fillna(0)\n",
        "condition = df['payment_confirmation_page'] == 'payment_confirmation_page'\n",
        "df.loc[condition, 'payment_confirmation_page'] = 1\n",
        "df.head()"
      ]
    },
    {
      "cell_type": "code",
      "execution_count": 23,
      "metadata": {
        "colab": {
          "base_uri": "https://localhost:8080/"
        },
        "id": "s6ocRzLfQdFD",
        "outputId": "c0c6d92d-a9c0-485e-c57c-462426925dfa"
      },
      "outputs": [
        {
          "data": {
            "text/plain": [
              "sex\n",
              "Male      45325\n",
              "Female    45075\n",
              "Name: count, dtype: int64"
            ]
          },
          "execution_count": 23,
          "metadata": {},
          "output_type": "execute_result"
        }
      ],
      "source": [
        "df['sex'].value_counts()"
      ]
    },
    {
      "cell_type": "code",
      "execution_count": 24,
      "metadata": {
        "colab": {
          "base_uri": "https://localhost:8080/"
        },
        "id": "cjzU_oJ8Rl0v",
        "outputId": "f5f484d8-864e-4ffe-b177-6146fee7361c"
      },
      "outputs": [
        {
          "data": {
            "text/plain": [
              "payment_confirmation_page\n",
              "0    0.995\n",
              "1    0.005\n",
              "Name: proportion, dtype: float64"
            ]
          },
          "execution_count": 24,
          "metadata": {},
          "output_type": "execute_result"
        }
      ],
      "source": [
        "# Агрегируем данные: подсчитываем общее количество пользователей и сколько из них подтвердили покупку\n",
        "df['payment_confirmation_page'].value_counts(normalize=True)"
      ]
    },
    {
      "cell_type": "code",
      "execution_count": 25,
      "metadata": {
        "colab": {
          "base_uri": "https://localhost:8080/",
          "height": 175
        },
        "id": "SDPkGefEpkRD",
        "outputId": "a53acf55-2f90-4082-acf1-bc8a48aa779a"
      },
      "outputs": [
        {
          "data": {
            "text/html": [
              "<div>\n",
              "<style scoped>\n",
              "    .dataframe tbody tr th:only-of-type {\n",
              "        vertical-align: middle;\n",
              "    }\n",
              "\n",
              "    .dataframe tbody tr th {\n",
              "        vertical-align: top;\n",
              "    }\n",
              "\n",
              "    .dataframe thead th {\n",
              "        text-align: right;\n",
              "    }\n",
              "</style>\n",
              "<table border=\"1\" class=\"dataframe\">\n",
              "  <thead>\n",
              "    <tr style=\"text-align: right;\">\n",
              "      <th></th>\n",
              "      <th>index</th>\n",
              "      <th>0</th>\n",
              "    </tr>\n",
              "  </thead>\n",
              "  <tbody>\n",
              "    <tr>\n",
              "      <th>0</th>\n",
              "      <td>home_page</td>\n",
              "      <td>90400</td>\n",
              "    </tr>\n",
              "    <tr>\n",
              "      <th>1</th>\n",
              "      <td>search_page</td>\n",
              "      <td>45200</td>\n",
              "    </tr>\n",
              "    <tr>\n",
              "      <th>2</th>\n",
              "      <td>payment_page</td>\n",
              "      <td>6030</td>\n",
              "    </tr>\n",
              "    <tr>\n",
              "      <th>3</th>\n",
              "      <td>payment_confirmation_page</td>\n",
              "      <td>452</td>\n",
              "    </tr>\n",
              "  </tbody>\n",
              "</table>\n",
              "</div>"
            ],
            "text/plain": [
              "                       index      0\n",
              "0                  home_page  90400\n",
              "1                search_page  45200\n",
              "2               payment_page   6030\n",
              "3  payment_confirmation_page    452"
            ]
          },
          "execution_count": 25,
          "metadata": {},
          "output_type": "execute_result"
        }
      ],
      "source": [
        "# Агрегируем данные: подсчитываем сколько пользователей совершило каждое из 4х событий на сайте\n",
        "summary = df[['home_page', 'search_page', 'payment_page', 'payment_confirmation_page']].sum().reset_index()\n",
        "summary.head()"
      ]
    },
    {
      "cell_type": "code",
      "execution_count": 26,
      "metadata": {
        "colab": {
          "base_uri": "https://localhost:8080/",
          "height": 175
        },
        "id": "sWFOHlVophKk",
        "outputId": "2a1104c5-b218-4455-e895-155a05c3b228"
      },
      "outputs": [
        {
          "data": {
            "text/html": [
              "<div>\n",
              "<style scoped>\n",
              "    .dataframe tbody tr th:only-of-type {\n",
              "        vertical-align: middle;\n",
              "    }\n",
              "\n",
              "    .dataframe tbody tr th {\n",
              "        vertical-align: top;\n",
              "    }\n",
              "\n",
              "    .dataframe thead th {\n",
              "        text-align: right;\n",
              "    }\n",
              "</style>\n",
              "<table border=\"1\" class=\"dataframe\">\n",
              "  <thead>\n",
              "    <tr style=\"text-align: right;\">\n",
              "      <th></th>\n",
              "      <th>stage</th>\n",
              "      <th>number</th>\n",
              "    </tr>\n",
              "  </thead>\n",
              "  <tbody>\n",
              "    <tr>\n",
              "      <th>0</th>\n",
              "      <td>home_page</td>\n",
              "      <td>90400</td>\n",
              "    </tr>\n",
              "    <tr>\n",
              "      <th>1</th>\n",
              "      <td>search_page</td>\n",
              "      <td>45200</td>\n",
              "    </tr>\n",
              "    <tr>\n",
              "      <th>2</th>\n",
              "      <td>payment_page</td>\n",
              "      <td>6030</td>\n",
              "    </tr>\n",
              "    <tr>\n",
              "      <th>3</th>\n",
              "      <td>payment_confirmation_page</td>\n",
              "      <td>452</td>\n",
              "    </tr>\n",
              "  </tbody>\n",
              "</table>\n",
              "</div>"
            ],
            "text/plain": [
              "                       stage number\n",
              "0                  home_page  90400\n",
              "1                search_page  45200\n",
              "2               payment_page   6030\n",
              "3  payment_confirmation_page    452"
            ]
          },
          "execution_count": 26,
          "metadata": {},
          "output_type": "execute_result"
        }
      ],
      "source": [
        "# Для удобства переименуем столбцы\n",
        "summary = summary.rename(columns = {'index':'stage', 0:'number'})\n",
        "summary.head()"
      ]
    },
    {
      "cell_type": "code",
      "execution_count": 27,
      "metadata": {
        "colab": {
          "base_uri": "https://localhost:8080/"
        },
        "id": "bzeyjcQwESOP",
        "outputId": "0af6ba8b-dfc1-4b8f-9e79-bbd75172cb8f"
      },
      "outputs": [],
      "source": [
        "# Импортируем графическую библиотеку Plotly (https://plotly.com/python/funnel-charts/)\n",
        "from plotly import graph_objects as go\n",
        "import plotly.io as pio\n",
        "\n",
        "# Настраиваем скрипт этой библиотеки для построения воронки конверсий нашими параметрами\n",
        "fig = go.Figure(go.Funnel(\n",
        "    y = summary['stage'],\n",
        "    x = summary['number'],\n",
        "    textinfo = \"value+percent previous\"))\n",
        "\n",
        "fig.update_layout(\n",
        "    title = 'Воронка конверсии Интернет-магазина',\n",
        "    title_x=0.5,\n",
        "    autosize=False,\n",
        "    width=1200,\n",
        "    height=600)\n",
        "\n",
        "pio.write_image(fig, 'plots/plot.png')"
      ]
    },
    {
      "cell_type": "markdown",
      "metadata": {},
      "source": [
        "![Plot](plots/plot.png)"
      ]
    },
    {
      "cell_type": "code",
      "execution_count": 28,
      "metadata": {
        "colab": {
          "base_uri": "https://localhost:8080/",
          "height": 175
        },
        "id": "lQltvQUuoKok",
        "outputId": "dc02fc50-ed21-4c5a-f4c5-ed6ee5804c3b"
      },
      "outputs": [
        {
          "data": {
            "text/html": [
              "<div>\n",
              "<style scoped>\n",
              "    .dataframe tbody tr th:only-of-type {\n",
              "        vertical-align: middle;\n",
              "    }\n",
              "\n",
              "    .dataframe tbody tr th {\n",
              "        vertical-align: top;\n",
              "    }\n",
              "\n",
              "    .dataframe thead th {\n",
              "        text-align: right;\n",
              "    }\n",
              "</style>\n",
              "<table border=\"1\" class=\"dataframe\">\n",
              "  <thead>\n",
              "    <tr style=\"text-align: right;\">\n",
              "      <th></th>\n",
              "      <th>Page</th>\n",
              "      <th>Female</th>\n",
              "      <th>Male</th>\n",
              "    </tr>\n",
              "  </thead>\n",
              "  <tbody>\n",
              "    <tr>\n",
              "      <th>0</th>\n",
              "      <td>home_page</td>\n",
              "      <td>45075</td>\n",
              "      <td>45325</td>\n",
              "    </tr>\n",
              "    <tr>\n",
              "      <th>1</th>\n",
              "      <td>search_page</td>\n",
              "      <td>22676</td>\n",
              "      <td>22524</td>\n",
              "    </tr>\n",
              "    <tr>\n",
              "      <th>2</th>\n",
              "      <td>payment_page</td>\n",
              "      <td>3100</td>\n",
              "      <td>2930</td>\n",
              "    </tr>\n",
              "    <tr>\n",
              "      <th>3</th>\n",
              "      <td>payment_confirmation_page</td>\n",
              "      <td>241</td>\n",
              "      <td>211</td>\n",
              "    </tr>\n",
              "  </tbody>\n",
              "</table>\n",
              "</div>"
            ],
            "text/plain": [
              "                        Page Female   Male\n",
              "0                  home_page  45075  45325\n",
              "1                search_page  22676  22524\n",
              "2               payment_page   3100   2930\n",
              "3  payment_confirmation_page    241    211"
            ]
          },
          "execution_count": 28,
          "metadata": {},
          "output_type": "execute_result"
        }
      ],
      "source": [
        "dfg = df.groupby('sex')[['home_page', 'search_page', 'payment_page', 'payment_confirmation_page']].sum().unstack('sex').unstack('sex').reset_index()\n",
        "\n",
        "dfg.columns.name = None\n",
        "\n",
        "dfg = dfg.rename(columns = {'index':'Page'})\n",
        "\n",
        "dfg.head()"
      ]
    },
    {
      "cell_type": "code",
      "execution_count": 29,
      "metadata": {
        "colab": {
          "base_uri": "https://localhost:8080/",
          "height": 637
        },
        "id": "9QToh8EOLXyP",
        "outputId": "c73b1d16-5e3b-4fae-eaf8-67ac6988e464"
      },
      "outputs": [],
      "source": [
        "# Строим более продвинутый вариант воронки конверсий на сайте с сегментацией по полу\n",
        "from plotly import graph_objects as go\n",
        "import plotly.io as pio\n",
        "\n",
        "# Настраиваем скрипт библиотеки Plotly нашими параметрами\n",
        "fig = go.Figure()\n",
        "\n",
        "# Часть графика для пола Male\n",
        "fig.add_trace(go.Funnel(\n",
        "    y = dfg['Page'],\n",
        "    x = dfg['Male'],\n",
        "    name = 'Male',\n",
        "    constraintext='outside',\n",
        "    textposition = 'inside',\n",
        "    textinfo = 'value+percent previous'\n",
        "    ))\n",
        "\n",
        "# Часть графика для пола Female\n",
        "fig.add_trace(go.Funnel(\n",
        "    y = dfg['Page'],\n",
        "    x = dfg['Female'],\n",
        "    name = 'Female',\n",
        "    textposition = 'auto',\n",
        "    textinfo = 'value+percent previous'\n",
        "   ))\n",
        "\n",
        "fig.update_layout(\n",
        "    title = 'Воронка конверсии по полу',\n",
        "    title_x=0.5,\n",
        "    autosize=False,\n",
        "    width=1200,\n",
        "    height=600)\n",
        "\n",
        "pio.write_image(fig, 'plots/plot2.png')"
      ]
    },
    {
      "cell_type": "markdown",
      "metadata": {},
      "source": [
        "![Plot](plots/plot2.png)"
      ]
    },
    {
      "cell_type": "markdown",
      "metadata": {
        "id": "ndFOzpGgVgje"
      },
      "source": [
        "А теперь потренируемся в создании сводных таблиц методами groupby, pivot_table, crosstab для ответов на поставленные вопросы:"
      ]
    },
    {
      "cell_type": "markdown",
      "metadata": {
        "id": "6yFRgzgfS1H1"
      },
      "source": [
        "1) Какой месяц самый топовый по продажам?"
      ]
    },
    {
      "cell_type": "code",
      "execution_count": 30,
      "metadata": {
        "colab": {
          "base_uri": "https://localhost:8080/",
          "height": 175
        },
        "id": "THL3wAbar2cp",
        "outputId": "3a4df7fe-21ef-4642-92c1-a1800c1e99ae"
      },
      "outputs": [
        {
          "data": {
            "text/html": [
              "<div>\n",
              "<style scoped>\n",
              "    .dataframe tbody tr th:only-of-type {\n",
              "        vertical-align: middle;\n",
              "    }\n",
              "\n",
              "    .dataframe tbody tr th {\n",
              "        vertical-align: top;\n",
              "    }\n",
              "\n",
              "    .dataframe thead th {\n",
              "        text-align: right;\n",
              "    }\n",
              "</style>\n",
              "<table border=\"1\" class=\"dataframe\">\n",
              "  <thead>\n",
              "    <tr style=\"text-align: right;\">\n",
              "      <th>month</th>\n",
              "      <th>April</th>\n",
              "      <th>February</th>\n",
              "      <th>January</th>\n",
              "      <th>March</th>\n",
              "      <th>All</th>\n",
              "    </tr>\n",
              "    <tr>\n",
              "      <th>sex</th>\n",
              "      <th></th>\n",
              "      <th></th>\n",
              "      <th></th>\n",
              "      <th></th>\n",
              "      <th></th>\n",
              "    </tr>\n",
              "  </thead>\n",
              "  <tbody>\n",
              "    <tr>\n",
              "      <th>Female</th>\n",
              "      <td>20</td>\n",
              "      <td>86</td>\n",
              "      <td>109</td>\n",
              "      <td>26</td>\n",
              "      <td>241</td>\n",
              "    </tr>\n",
              "    <tr>\n",
              "      <th>Male</th>\n",
              "      <td>26</td>\n",
              "      <td>87</td>\n",
              "      <td>80</td>\n",
              "      <td>18</td>\n",
              "      <td>211</td>\n",
              "    </tr>\n",
              "    <tr>\n",
              "      <th>All</th>\n",
              "      <td>46</td>\n",
              "      <td>173</td>\n",
              "      <td>189</td>\n",
              "      <td>44</td>\n",
              "      <td>452</td>\n",
              "    </tr>\n",
              "  </tbody>\n",
              "</table>\n",
              "</div>"
            ],
            "text/plain": [
              "month  April February January March  All\n",
              "sex                                     \n",
              "Female    20       86     109    26  241\n",
              "Male      26       87      80    18  211\n",
              "All       46      173     189    44  452"
            ]
          },
          "execution_count": 30,
          "metadata": {},
          "output_type": "execute_result"
        }
      ],
      "source": [
        "# Используем метод pivot_table\n",
        "pd.pivot_table(df, index = 'sex', columns = 'month', values = 'payment_confirmation_page', aggfunc = 'sum', margins=True)"
      ]
    },
    {
      "cell_type": "markdown",
      "metadata": {
        "id": "Pgm7YALRszqA"
      },
      "source": [
        "2) Какой день недели самый топовый по продажам? Также есть ответ на вопрос, в какой день недели лучше покупают мужичины и женщины."
      ]
    },
    {
      "cell_type": "code",
      "execution_count": 31,
      "metadata": {
        "colab": {
          "base_uri": "https://localhost:8080/",
          "height": 175
        },
        "id": "1T3-V7zqeUzq",
        "outputId": "34d26ec1-b07a-460f-976c-1b2aaa705439"
      },
      "outputs": [
        {
          "data": {
            "text/html": [
              "<div>\n",
              "<style scoped>\n",
              "    .dataframe tbody tr th:only-of-type {\n",
              "        vertical-align: middle;\n",
              "    }\n",
              "\n",
              "    .dataframe tbody tr th {\n",
              "        vertical-align: top;\n",
              "    }\n",
              "\n",
              "    .dataframe thead th {\n",
              "        text-align: right;\n",
              "    }\n",
              "</style>\n",
              "<table border=\"1\" class=\"dataframe\">\n",
              "  <thead>\n",
              "    <tr style=\"text-align: right;\">\n",
              "      <th>weekday</th>\n",
              "      <th>Friday</th>\n",
              "      <th>Monday</th>\n",
              "      <th>Saturday</th>\n",
              "      <th>Sunday</th>\n",
              "      <th>Thursday</th>\n",
              "      <th>Tuesday</th>\n",
              "      <th>Wednesday</th>\n",
              "      <th>All</th>\n",
              "    </tr>\n",
              "    <tr>\n",
              "      <th>sex</th>\n",
              "      <th></th>\n",
              "      <th></th>\n",
              "      <th></th>\n",
              "      <th></th>\n",
              "      <th></th>\n",
              "      <th></th>\n",
              "      <th></th>\n",
              "      <th></th>\n",
              "    </tr>\n",
              "  </thead>\n",
              "  <tbody>\n",
              "    <tr>\n",
              "      <th>Female</th>\n",
              "      <td>26</td>\n",
              "      <td>43</td>\n",
              "      <td>36</td>\n",
              "      <td>35</td>\n",
              "      <td>31</td>\n",
              "      <td>40</td>\n",
              "      <td>30</td>\n",
              "      <td>241</td>\n",
              "    </tr>\n",
              "    <tr>\n",
              "      <th>Male</th>\n",
              "      <td>28</td>\n",
              "      <td>34</td>\n",
              "      <td>34</td>\n",
              "      <td>27</td>\n",
              "      <td>35</td>\n",
              "      <td>29</td>\n",
              "      <td>24</td>\n",
              "      <td>211</td>\n",
              "    </tr>\n",
              "    <tr>\n",
              "      <th>All</th>\n",
              "      <td>54</td>\n",
              "      <td>77</td>\n",
              "      <td>70</td>\n",
              "      <td>62</td>\n",
              "      <td>66</td>\n",
              "      <td>69</td>\n",
              "      <td>54</td>\n",
              "      <td>452</td>\n",
              "    </tr>\n",
              "  </tbody>\n",
              "</table>\n",
              "</div>"
            ],
            "text/plain": [
              "weekday Friday Monday Saturday Sunday Thursday Tuesday Wednesday  All\n",
              "sex                                                                  \n",
              "Female      26     43       36     35       31      40        30  241\n",
              "Male        28     34       34     27       35      29        24  211\n",
              "All         54     77       70     62       66      69        54  452"
            ]
          },
          "execution_count": 31,
          "metadata": {},
          "output_type": "execute_result"
        }
      ],
      "source": [
        "# Используем метод pivot_table\n",
        "pd.pivot_table(df, index = 'sex', columns = 'weekday', values = 'payment_confirmation_page', aggfunc = 'sum', margins=True)"
      ]
    }
  ],
  "metadata": {
    "colab": {
      "provenance": []
    },
    "kernelspec": {
      "display_name": "Python 3",
      "name": "python3"
    },
    "language_info": {
      "codemirror_mode": {
        "name": "ipython",
        "version": 3
      },
      "file_extension": ".py",
      "mimetype": "text/x-python",
      "name": "python",
      "nbconvert_exporter": "python",
      "pygments_lexer": "ipython3",
      "version": "3.12.0"
    }
  },
  "nbformat": 4,
  "nbformat_minor": 0
}
